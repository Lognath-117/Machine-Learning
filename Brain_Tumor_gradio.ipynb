{
  "nbformat": 4,
  "nbformat_minor": 0,
  "metadata": {
    "colab": {
      "provenance": [],
      "gpuType": "T4"
    },
    "kernelspec": {
      "name": "python3",
      "display_name": "Python 3"
    },
    "language_info": {
      "name": "python"
    },
    "accelerator": "GPU"
  },
  "cells": [
    {
      "cell_type": "code",
      "execution_count": null,
      "metadata": {
        "colab": {
          "base_uri": "https://localhost:8080/",
          "height": 628
        },
        "id": "M0wl5LCWZgem",
        "outputId": "344a857f-7e65-4834-9974-960b02eac6db"
      },
      "outputs": [
        {
          "output_type": "stream",
          "name": "stderr",
          "text": [
            "WARNING:absl:Compiled the loaded model, but the compiled metrics have yet to be built. `model.compile_metrics` will be empty until you train or evaluate the model.\n"
          ]
        },
        {
          "output_type": "stream",
          "name": "stdout",
          "text": [
            "Colab notebook detected. To show errors in colab notebook, set debug=True in launch()\n",
            "* Running on public URL: https://c0a19ff2dabb28475d.gradio.live\n",
            "\n",
            "This share link expires in 1 week. For free permanent hosting and GPU upgrades, run `gradio deploy` from the terminal in the working directory to deploy to Hugging Face Spaces (https://huggingface.co/spaces)\n"
          ]
        },
        {
          "output_type": "display_data",
          "data": {
            "text/plain": [
              "<IPython.core.display.HTML object>"
            ],
            "text/html": [
              "<div><iframe src=\"https://c0a19ff2dabb28475d.gradio.live\" width=\"100%\" height=\"500\" allow=\"autoplay; camera; microphone; clipboard-read; clipboard-write;\" frameborder=\"0\" allowfullscreen></iframe></div>"
            ]
          },
          "metadata": {}
        },
        {
          "output_type": "execute_result",
          "data": {
            "text/plain": []
          },
          "metadata": {},
          "execution_count": 2
        }
      ],
      "source": [
        "import gradio as gr\n",
        "import tensorflow as tf\n",
        "import numpy as np\n",
        "import sys\n",
        "\n",
        "model_path = '/content/drive/MyDrive/archive (1)/brain_tu.h5'\n",
        "\n",
        "\n",
        "model = tf.keras.models.load_model(model_path)\n",
        "\n",
        "def predict(image):\n",
        "    img = image.resize((224, 224))\n",
        "    img = np.array(img) / 255.0\n",
        "    img = img.reshape(1, 224, 224, 3)\n",
        "    pred = model.predict(img)\n",
        "    class_names = ['Normal', 'Abnormal']\n",
        "    predicted_class = class_names[np.argmax(pred)]\n",
        "    return f\"Prediction: {predicted_class}\"\n",
        "\n",
        "with gr.Blocks(theme=gr.themes.Soft()) as demo:\n",
        "    gr.Markdown(\"# Brain Tumor Classification\")\n",
        "    gr.Markdown(\"Project Done BY **Lognath.A ❤️**\")\n",
        "    gr.Markdown(\"Upload an image to classify as Normal or Abnormal\")\n",
        "    image_input = gr.Image(type=\"pil\")\n",
        "    output_label = gr.Label()\n",
        "    submit_button = gr.Button(\"Predict\")\n",
        "    submit_button.click(fn=predict, inputs=image_input, outputs=output_label)\n",
        "\n",
        "demo.launch(share=True)\n"
      ]
    }
  ]
}