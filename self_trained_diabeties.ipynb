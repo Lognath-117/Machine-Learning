{
  "nbformat": 4,
  "nbformat_minor": 0,
  "metadata": {
    "colab": {
      "provenance": []
    },
    "kernelspec": {
      "name": "python3",
      "display_name": "Python 3"
    },
    "language_info": {
      "name": "python"
    }
  },
  "cells": [
    {
      "cell_type": "code",
      "execution_count": null,
      "metadata": {
        "colab": {
          "base_uri": "https://localhost:8080/"
        },
        "id": "R1lKRUAtjmi_",
        "outputId": "42a7b694-f94d-4edc-98e0-bde3f0eb1b55"
      },
      "outputs": [
        {
          "output_type": "stream",
          "name": "stderr",
          "text": [
            "/usr/local/lib/python3.11/dist-packages/sklearn/semi_supervised/_self_training.py:288: UserWarning: y contains no unlabeled samples\n",
            "  warnings.warn(\"y contains no unlabeled samples\", UserWarning)\n",
            "/usr/local/lib/python3.11/dist-packages/sklearn/semi_supervised/_self_training.py:293: UserWarning: k_best is larger than the amount of unlabeled samples. All unlabeled samples will be labeled in the first iteration\n",
            "  warnings.warn(\n"
          ]
        },
        {
          "output_type": "stream",
          "name": "stdout",
          "text": [
            "Accuracy: 0.7532467532467533\n",
            "\n",
            "Classification Report:\n",
            "                  precision    recall  f1-score   support\n",
            "\n",
            "tested_negative       0.78      0.87      0.82       150\n",
            "tested_positive       0.69      0.54      0.61        81\n",
            "\n",
            "       accuracy                           0.75       231\n",
            "      macro avg       0.73      0.70      0.71       231\n",
            "   weighted avg       0.75      0.75      0.75       231\n",
            "\n"
          ]
        },
        {
          "output_type": "stream",
          "name": "stderr",
          "text": [
            "/usr/local/lib/python3.11/dist-packages/sklearn/semi_supervised/_self_training.py:288: UserWarning: y contains no unlabeled samples\n",
            "  warnings.warn(\"y contains no unlabeled samples\", UserWarning)\n",
            "/usr/local/lib/python3.11/dist-packages/sklearn/semi_supervised/_self_training.py:293: UserWarning: k_best is larger than the amount of unlabeled samples. All unlabeled samples will be labeled in the first iteration\n",
            "  warnings.warn(\n"
          ]
        },
        {
          "output_type": "stream",
          "name": "stdout",
          "text": [
            "Accuracy: 0.7532467532467533\n",
            "\n",
            "Classification Report:\n",
            "                  precision    recall  f1-score   support\n",
            "\n",
            "tested_negative       0.78      0.87      0.82       150\n",
            "tested_positive       0.69      0.54      0.61        81\n",
            "\n",
            "       accuracy                           0.75       231\n",
            "      macro avg       0.73      0.70      0.71       231\n",
            "   weighted avg       0.75      0.75      0.75       231\n",
            "\n"
          ]
        }
      ],
      "source": [
        "import pandas as pd\n",
        "import numpy as np\n",
        "from sklearn.model_selection import train_test_split\n",
        "from sklearn.preprocessing import StandardScaler\n",
        "from sklearn.ensemble import RandomForestClassifier\n",
        "from sklearn.semi_supervised import SelfTrainingClassifier\n",
        "from sklearn.metrics import accuracy_score, classification_report\n",
        "\n",
        "# Load the dataset\n",
        "df = pd.read_excel('/content/diabetes.xlsx')\n",
        "\n",
        "# Inspect and handle missing values if any\n",
        "if df.isnull().sum().sum() > 0:\n",
        "    df.fillna(df.mean(), inplace=True)\n",
        "\n",
        "# Assume the last column is target\n",
        "y = df.iloc[:, -1].values\n",
        "X = df.iloc[:, :-1].values\n",
        "\n",
        "# Scale features\n",
        "scaler = StandardScaler()\n",
        "X = scaler.fit_transform(X)\n",
        "\n",
        "# Split data into small labeled and large unlabeled sets\n",
        "X_labeled, X_unlabeled, y_labeled, y_unlabeled = train_test_split(\n",
        "    X, y, test_size=0.8, stratify=y, random_state=42)\n",
        "\n",
        "# For unlabeled data, mask the labels\n",
        "y_unlabeled_masked = np.full(y_unlabeled.shape, -1)\n",
        "\n",
        "# Combine labeled and unlabeled sets\n",
        "X_combined = np.vstack((X_labeled, X_unlabeled))\n",
        "y_combined = np.concatenate((y_labeled, y_unlabeled_masked))\n",
        "\n",
        "# Define base classifier\n",
        "base_clf = RandomForestClassifier(n_estimators=100, random_state=42)\n",
        "\n",
        "# Self-training classifier\n",
        "self_training_clf = SelfTrainingClassifier(base_clf, criterion='k_best', k_best=50)\n",
        "\n",
        "# Train the model\n",
        "self_training_clf.fit(X_combined, y_combined)\n",
        "\n",
        "# Evaluate on the original test set\n",
        "X_train_final, X_test_final, y_train_final, y_test_final = train_test_split(\n",
        "    X, y, test_size=0.3, random_state=42, stratify=y)\n",
        "\n",
        "self_training_clf.fit(X_train_final, y_train_final)\n",
        "y_pred = self_training_clf.predict(X_test_final)\n",
        "\n",
        "print(\"Accuracy:\", accuracy_score(y_test_final, y_pred))\n",
        "print(\"\\nClassification Report:\\n\", classification_report(y_test_final, y_pred))\n",
        "import pandas as pd\n",
        "import numpy as np\n",
        "from sklearn.model_selection import train_test_split\n",
        "from sklearn.preprocessing import StandardScaler\n",
        "from sklearn.ensemble import RandomForestClassifier\n",
        "from sklearn.semi_supervised import SelfTrainingClassifier\n",
        "from sklearn.metrics import accuracy_score, classification_report\n",
        "\n",
        "# Load the dataset\n",
        "df = pd.read_excel('/content/diabetes.xlsx')\n",
        "\n",
        "# Inspect and handle missing values if any\n",
        "if df.isnull().sum().sum() > 0:\n",
        "    df.fillna(df.mean(), inplace=True)\n",
        "\n",
        "# Assume the last column is target\n",
        "y = df.iloc[:, -1].values\n",
        "X = df.iloc[:, :-1].values\n",
        "\n",
        "# Scale features\n",
        "scaler = StandardScaler()\n",
        "X = scaler.fit_transform(X)\n",
        "\n",
        "# Split data into small labeled and large unlabeled sets\n",
        "X_labeled, X_unlabeled, y_labeled, y_unlabeled = train_test_split(\n",
        "    X, y, test_size=0.8, stratify=y, random_state=42)\n",
        "\n",
        "# For unlabeled data, mask the labels\n",
        "y_unlabeled_masked = np.full(y_unlabeled.shape, -1)\n",
        "\n",
        "# Combine labeled and unlabeled sets\n",
        "X_combined = np.vstack((X_labeled, X_unlabeled))\n",
        "y_combined = np.concatenate((y_labeled, y_unlabeled_masked))\n",
        "\n",
        "# Define base classifier\n",
        "base_clf = RandomForestClassifier(n_estimators=100, random_state=42)\n",
        "\n",
        "# Self-training classifier\n",
        "self_training_clf = SelfTrainingClassifier(base_clf, criterion='k_best', k_best=50)\n",
        "\n",
        "# Train the model\n",
        "self_training_clf.fit(X_combined, y_combined)\n",
        "\n",
        "# Evaluate on the original test set\n",
        "X_train_final, X_test_final, y_train_final, y_test_final = train_test_split(\n",
        "    X, y, test_size=0.3, random_state=42, stratify=y)\n",
        "\n",
        "self_training_clf.fit(X_train_final, y_train_final)\n",
        "y_pred = self_training_clf.predict(X_test_final)\n",
        "\n",
        "print(\"Accuracy:\", accuracy_score(y_test_final, y_pred))\n",
        "print(\"\\nClassification Report:\\n\", classification_report(y_test_final, y_pred))"
      ]
    }
  ]
}