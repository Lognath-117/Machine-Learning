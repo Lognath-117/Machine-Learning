{
  "nbformat": 4,
  "nbformat_minor": 0,
  "metadata": {
    "colab": {
      "provenance": []
    },
    "kernelspec": {
      "name": "python3",
      "display_name": "Python 3"
    },
    "language_info": {
      "name": "python"
    }
  },
  "cells": [
    {
      "cell_type": "code",
      "source": [],
      "metadata": {
        "id": "bIuZV40PjlPC"
      },
      "execution_count": null,
      "outputs": []
    },
    {
      "cell_type": "code",
      "execution_count": null,
      "metadata": {
        "id": "6vXse3jva1sO",
        "colab": {
          "base_uri": "https://localhost:8080/"
        },
        "outputId": "1f4cce60-163f-4842-efbf-d12c2d358cc7"
      },
      "outputs": [
        {
          "output_type": "stream",
          "name": "stdout",
          "text": [
            "Final Accuracy: 1.0\n",
            "[1 0 0 0 1 1 0 0 0 1 0 0 0 0 0 0 0 0 0 0 0 0 0 0 0 0 1 0 0 0 0 0 0 0 1 0 0\n",
            " 1 0 0 0 0 0 0 1 0 0 0 0 0 0 0 0 0 1 0 0 0 0 0]\n"
          ]
        }
      ],
      "source": [
        "import pandas as pd\n",
        "import numpy as np\n",
        "from sklearn.model_selection import train_test_split\n",
        "from sklearn.preprocessing import LabelEncoder, StandardScaler\n",
        "from sklearn.linear_model import LogisticRegression\n",
        "from sklearn.tree import DecisionTreeClassifier\n",
        "from sklearn.metrics import accuracy_score\n",
        "\n",
        "# Load dataset\n",
        "df = pd.read_csv('/content/Mall_Customers.csv')\n",
        "\n",
        "# Preprocessing\n",
        "# Encode Gender\n",
        "le = LabelEncoder()\n",
        "df['Gender'] = le.fit_transform(df['Gender'])\n",
        "\n",
        "# Features and target (we'll artificially create target as clusters to simulate semi-supervised)\n",
        "features = df[['Gender', 'Age', 'Annual Income (k$)', 'Spending Score (1-100)']]\n",
        "\n",
        "# Artificial labels: use KMeans to create pseudo-labels\n",
        "from sklearn.cluster import KMeans\n",
        "kmeans = KMeans(n_clusters=2, random_state=42)\n",
        "df['Cluster'] = kmeans.fit_predict(features)\n",
        "\n",
        "X = features.values\n",
        "y = df['Cluster'].values\n",
        "\n",
        "# Split into labeled and unlabeled data\n",
        "X_labeled, X_unlabeled, y_labeled, y_unlabeled = train_test_split(X, y, test_size=0.9, random_state=42, stratify=y)\n",
        "\n",
        "# Co-Training setup\n",
        "clf1 = LogisticRegression()\n",
        "clf2 = DecisionTreeClassifier(max_depth=3)\n",
        "\n",
        "# Initial training on small labeled data\n",
        "clf1.fit(X_labeled, y_labeled)\n",
        "clf2.fit(X_labeled, y_labeled)\n",
        "\n",
        "# Co-Training iterations\n",
        "max_iter = 20\n",
        "for i in range(max_iter):\n",
        "    # Predict on unlabeled data\n",
        "    pred1 = clf1.predict(X_unlabeled)\n",
        "    pred2 = clf2.predict(X_unlabeled)\n",
        "\n",
        "    # Find instances where both classifiers agree\n",
        "    agree_idx = np.where(pred1 == pred2)[0]\n",
        "\n",
        "    if len(agree_idx) == 0:\n",
        "        break  # Stop if no agreement\n",
        "\n",
        "    # Add agreed data to labeled set\n",
        "    X_new = X_unlabeled[agree_idx]\n",
        "    y_new = pred1[agree_idx]\n",
        "\n",
        "    X_labeled = np.vstack((X_labeled, X_new))\n",
        "    y_labeled = np.concatenate((y_labeled, y_new))\n",
        "\n",
        "    # Remove added data from unlabeled set\n",
        "    mask = np.ones(len(X_unlabeled), dtype=bool)\n",
        "    mask[agree_idx] = False\n",
        "    X_unlabeled = X_unlabeled[mask]\n",
        "\n",
        "    # Retrain classifiers\n",
        "    clf1.fit(X_labeled, y_labeled)\n",
        "    clf2.fit(X_labeled, y_labeled)\n",
        "\n",
        "# Final evaluation on remaining labeled data (test)\n",
        "X_train, X_test, y_train, y_test = train_test_split(X_labeled, y_labeled, test_size=0.3, random_state=42)\n",
        "clf_final = LogisticRegression()\n",
        "clf_final.fit(X_train, y_train)\n",
        "y_pred = clf_final.predict(X_test)\n",
        "\n",
        "print(\"Final Accuracy:\", accuracy_score(y_test, y_pred))"
      ]
    },
    {
      "cell_type": "code",
      "source": [],
      "metadata": {
        "id": "g7WjaMGjjlRl"
      },
      "execution_count": null,
      "outputs": []
    },
    {
      "cell_type": "code",
      "source": [],
      "metadata": {
        "id": "cn5mCRu9jlUF"
      },
      "execution_count": null,
      "outputs": []
    },
    {
      "cell_type": "code",
      "source": [],
      "metadata": {
        "id": "Ml-pBzijjlWj"
      },
      "execution_count": null,
      "outputs": []
    },
    {
      "cell_type": "code",
      "source": [],
      "metadata": {
        "id": "GXHN4Ts7jlZX"
      },
      "execution_count": null,
      "outputs": []
    },
    {
      "cell_type": "code",
      "source": [],
      "metadata": {
        "id": "X1fM801_jlct"
      },
      "execution_count": null,
      "outputs": []
    }
  ]
}